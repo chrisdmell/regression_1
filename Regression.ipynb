{
 "cells": [
  {
   "cell_type": "code",
   "execution_count": 1,
   "metadata": {},
   "outputs": [],
   "source": [
    "import pandas as pd"
   ]
  },
  {
   "cell_type": "code",
   "execution_count": 2,
   "metadata": {},
   "outputs": [
    {
     "data": {
      "text/html": [
       "<div>\n",
       "<style scoped>\n",
       "    .dataframe tbody tr th:only-of-type {\n",
       "        vertical-align: middle;\n",
       "    }\n",
       "\n",
       "    .dataframe tbody tr th {\n",
       "        vertical-align: top;\n",
       "    }\n",
       "\n",
       "    .dataframe thead th {\n",
       "        text-align: right;\n",
       "    }\n",
       "</style>\n",
       "<table border=\"1\" class=\"dataframe\">\n",
       "  <thead>\n",
       "    <tr style=\"text-align: right;\">\n",
       "      <th></th>\n",
       "      <th>age</th>\n",
       "      <th>sex</th>\n",
       "      <th>bmi</th>\n",
       "      <th>children</th>\n",
       "      <th>smoker</th>\n",
       "      <th>region</th>\n",
       "      <th>charges</th>\n",
       "    </tr>\n",
       "  </thead>\n",
       "  <tbody>\n",
       "    <tr>\n",
       "      <th>0</th>\n",
       "      <td>19</td>\n",
       "      <td>female</td>\n",
       "      <td>27.900</td>\n",
       "      <td>0</td>\n",
       "      <td>yes</td>\n",
       "      <td>southwest</td>\n",
       "      <td>16884.92400</td>\n",
       "    </tr>\n",
       "    <tr>\n",
       "      <th>1</th>\n",
       "      <td>18</td>\n",
       "      <td>male</td>\n",
       "      <td>33.770</td>\n",
       "      <td>1</td>\n",
       "      <td>no</td>\n",
       "      <td>southeast</td>\n",
       "      <td>1725.55230</td>\n",
       "    </tr>\n",
       "    <tr>\n",
       "      <th>2</th>\n",
       "      <td>28</td>\n",
       "      <td>male</td>\n",
       "      <td>33.000</td>\n",
       "      <td>3</td>\n",
       "      <td>no</td>\n",
       "      <td>southeast</td>\n",
       "      <td>4449.46200</td>\n",
       "    </tr>\n",
       "    <tr>\n",
       "      <th>3</th>\n",
       "      <td>33</td>\n",
       "      <td>male</td>\n",
       "      <td>22.705</td>\n",
       "      <td>0</td>\n",
       "      <td>no</td>\n",
       "      <td>northwest</td>\n",
       "      <td>21984.47061</td>\n",
       "    </tr>\n",
       "    <tr>\n",
       "      <th>4</th>\n",
       "      <td>32</td>\n",
       "      <td>male</td>\n",
       "      <td>28.880</td>\n",
       "      <td>0</td>\n",
       "      <td>no</td>\n",
       "      <td>northwest</td>\n",
       "      <td>3866.85520</td>\n",
       "    </tr>\n",
       "  </tbody>\n",
       "</table>\n",
       "</div>"
      ],
      "text/plain": [
       "   age     sex     bmi  children smoker     region      charges\n",
       "0   19  female  27.900         0    yes  southwest  16884.92400\n",
       "1   18    male  33.770         1     no  southeast   1725.55230\n",
       "2   28    male  33.000         3     no  southeast   4449.46200\n",
       "3   33    male  22.705         0     no  northwest  21984.47061\n",
       "4   32    male  28.880         0     no  northwest   3866.85520"
      ]
     },
     "execution_count": 2,
     "metadata": {},
     "output_type": "execute_result"
    }
   ],
   "source": [
    "insurance = pd.read_csv(\"insurance.csv\", sep=\",\")\n",
    "insurance.head()"
   ]
  },
  {
   "cell_type": "code",
   "execution_count": 3,
   "metadata": {},
   "outputs": [
    {
     "name": "stderr",
     "output_type": "stream",
     "text": [
      "C:\\Users\\user\\Anaconda3\\lib\\site-packages\\ipykernel_launcher.py:1: UserWarning: Boolean Series key will be reindexed to match DataFrame index.\n",
      "  \"\"\"Entry point for launching an IPython kernel.\n"
     ]
    },
    {
     "data": {
      "text/html": [
       "<div>\n",
       "<style scoped>\n",
       "    .dataframe tbody tr th:only-of-type {\n",
       "        vertical-align: middle;\n",
       "    }\n",
       "\n",
       "    .dataframe tbody tr th {\n",
       "        vertical-align: top;\n",
       "    }\n",
       "\n",
       "    .dataframe thead th {\n",
       "        text-align: right;\n",
       "    }\n",
       "</style>\n",
       "<table border=\"1\" class=\"dataframe\">\n",
       "  <thead>\n",
       "    <tr style=\"text-align: right;\">\n",
       "      <th></th>\n",
       "      <th>age</th>\n",
       "      <th>sex</th>\n",
       "      <th>bmi</th>\n",
       "      <th>children</th>\n",
       "      <th>smoker</th>\n",
       "      <th>region</th>\n",
       "      <th>charges</th>\n",
       "    </tr>\n",
       "  </thead>\n",
       "  <tbody>\n",
       "    <tr>\n",
       "      <th>268</th>\n",
       "      <td>45</td>\n",
       "      <td>male</td>\n",
       "      <td>30.200</td>\n",
       "      <td>1</td>\n",
       "      <td>no</td>\n",
       "      <td>southwest</td>\n",
       "      <td>7441.05300</td>\n",
       "    </tr>\n",
       "    <tr>\n",
       "      <th>820</th>\n",
       "      <td>45</td>\n",
       "      <td>male</td>\n",
       "      <td>33.700</td>\n",
       "      <td>1</td>\n",
       "      <td>no</td>\n",
       "      <td>southwest</td>\n",
       "      <td>7445.91800</td>\n",
       "    </tr>\n",
       "    <tr>\n",
       "      <th>987</th>\n",
       "      <td>45</td>\n",
       "      <td>female</td>\n",
       "      <td>27.645</td>\n",
       "      <td>1</td>\n",
       "      <td>no</td>\n",
       "      <td>northwest</td>\n",
       "      <td>28340.18885</td>\n",
       "    </tr>\n",
       "    <tr>\n",
       "      <th>1037</th>\n",
       "      <td>45</td>\n",
       "      <td>female</td>\n",
       "      <td>30.495</td>\n",
       "      <td>1</td>\n",
       "      <td>yes</td>\n",
       "      <td>northwest</td>\n",
       "      <td>39725.51805</td>\n",
       "    </tr>\n",
       "  </tbody>\n",
       "</table>\n",
       "</div>"
      ],
      "text/plain": [
       "      age     sex     bmi  children smoker     region      charges\n",
       "268    45    male  30.200         1     no  southwest   7441.05300\n",
       "820    45    male  33.700         1     no  southwest   7445.91800\n",
       "987    45  female  27.645         1     no  northwest  28340.18885\n",
       "1037   45  female  30.495         1    yes  northwest  39725.51805"
      ]
     },
     "execution_count": 3,
     "metadata": {},
     "output_type": "execute_result"
    }
   ],
   "source": [
    "insurance[insurance[\"children\"] == 1][insurance[\"age\"] == 45]"
   ]
  },
  {
   "cell_type": "code",
   "execution_count": 4,
   "metadata": {},
   "outputs": [
    {
     "data": {
      "text/plain": [
       "array(['southwest', 'southeast', 'northwest', 'northeast'], dtype=object)"
      ]
     },
     "execution_count": 4,
     "metadata": {},
     "output_type": "execute_result"
    }
   ],
   "source": [
    "insurance.region.unique()"
   ]
  },
  {
   "cell_type": "code",
   "execution_count": 5,
   "metadata": {},
   "outputs": [
    {
     "data": {
      "text/html": [
       "<div>\n",
       "<style scoped>\n",
       "    .dataframe tbody tr th:only-of-type {\n",
       "        vertical-align: middle;\n",
       "    }\n",
       "\n",
       "    .dataframe tbody tr th {\n",
       "        vertical-align: top;\n",
       "    }\n",
       "\n",
       "    .dataframe thead th {\n",
       "        text-align: right;\n",
       "    }\n",
       "</style>\n",
       "<table border=\"1\" class=\"dataframe\">\n",
       "  <thead>\n",
       "    <tr style=\"text-align: right;\">\n",
       "      <th></th>\n",
       "      <th>age</th>\n",
       "      <th>bmi</th>\n",
       "      <th>children</th>\n",
       "      <th>charges</th>\n",
       "    </tr>\n",
       "  </thead>\n",
       "  <tbody>\n",
       "    <tr>\n",
       "      <th>age</th>\n",
       "      <td>1.000000</td>\n",
       "      <td>0.109272</td>\n",
       "      <td>0.042469</td>\n",
       "      <td>0.299008</td>\n",
       "    </tr>\n",
       "    <tr>\n",
       "      <th>bmi</th>\n",
       "      <td>0.109272</td>\n",
       "      <td>1.000000</td>\n",
       "      <td>0.012759</td>\n",
       "      <td>0.198341</td>\n",
       "    </tr>\n",
       "    <tr>\n",
       "      <th>children</th>\n",
       "      <td>0.042469</td>\n",
       "      <td>0.012759</td>\n",
       "      <td>1.000000</td>\n",
       "      <td>0.067998</td>\n",
       "    </tr>\n",
       "    <tr>\n",
       "      <th>charges</th>\n",
       "      <td>0.299008</td>\n",
       "      <td>0.198341</td>\n",
       "      <td>0.067998</td>\n",
       "      <td>1.000000</td>\n",
       "    </tr>\n",
       "  </tbody>\n",
       "</table>\n",
       "</div>"
      ],
      "text/plain": [
       "               age       bmi  children   charges\n",
       "age       1.000000  0.109272  0.042469  0.299008\n",
       "bmi       0.109272  1.000000  0.012759  0.198341\n",
       "children  0.042469  0.012759  1.000000  0.067998\n",
       "charges   0.299008  0.198341  0.067998  1.000000"
      ]
     },
     "execution_count": 5,
     "metadata": {},
     "output_type": "execute_result"
    }
   ],
   "source": [
    "insurance.corr(method = \"pearson\")"
   ]
  },
  {
   "cell_type": "code",
   "execution_count": 6,
   "metadata": {
    "scrolled": true
   },
   "outputs": [],
   "source": [
    "import seaborn as sns\n",
    "ax = sns.heatmap(insurance.corr(method = \"pearson\"), cmap = \"vlag\", annot=True)"
   ]
  },
  {
   "cell_type": "code",
   "execution_count": 7,
   "metadata": {},
   "outputs": [
    {
     "data": {
      "text/plain": [
       "Index(['age', 'bmi', 'charges', 'sex_male', 'children_1', 'children_2',\n",
       "       'children_3', 'children_4', 'children_5', 'smoker_yes',\n",
       "       'region_northwest', 'region_southeast', 'region_southwest'],\n",
       "      dtype='object')"
      ]
     },
     "execution_count": 7,
     "metadata": {},
     "output_type": "execute_result"
    }
   ],
   "source": [
    "categorical_columns = ['sex','children', 'smoker', 'region']\n",
    "df_encode = pd.get_dummies(data = insurance, prefix = None, prefix_sep='_',\n",
    "               columns = categorical_columns,\n",
    "               drop_first =True)\n",
    "\n",
    "df_encode.head()\n",
    "df_encode.columns"
   ]
  },
  {
   "cell_type": "code",
   "execution_count": null,
   "metadata": {},
   "outputs": [],
   "source": []
  },
  {
   "cell_type": "code",
   "execution_count": 8,
   "metadata": {},
   "outputs": [],
   "source": [
    "from scipy.stats import boxcox\n",
    "y_bc,lam, ci= boxcox(df_encode['charges'],alpha=0.05)"
   ]
  },
  {
   "cell_type": "code",
   "execution_count": 9,
   "metadata": {},
   "outputs": [
    {
     "data": {
      "text/plain": [
       "array([12.12897974,  8.80859638, 10.14752106, ...,  8.72968299,\n",
       "        9.01913128, 12.9736611 ])"
      ]
     },
     "execution_count": 9,
     "metadata": {},
     "output_type": "execute_result"
    }
   ],
   "source": [
    "y_bc"
   ]
  },
  {
   "cell_type": "code",
   "execution_count": 10,
   "metadata": {},
   "outputs": [],
   "source": [
    "import numpy as np\n",
    "df_encode['charges'] = np.log(df_encode['charges'])\n"
   ]
  },
  {
   "cell_type": "code",
   "execution_count": 11,
   "metadata": {},
   "outputs": [
    {
     "data": {
      "text/plain": [
       "(1338, 15)"
      ]
     },
     "execution_count": 11,
     "metadata": {},
     "output_type": "execute_result"
    }
   ],
   "source": [
    "df_encode['age_smoker_yes'] = df_encode['age']* df_encode['smoker_yes']\n",
    "df_encode['age_sex_male'] = df_encode['age']* df_encode['sex_male']\n",
    "\n",
    "df_encode.shape"
   ]
  },
  {
   "cell_type": "code",
   "execution_count": 12,
   "metadata": {},
   "outputs": [],
   "source": [
    "from sklearn.model_selection import train_test_split\n",
    "X = df_encode.drop('charges',axis=1) # Independet variable\n",
    "y = df_encode['charges'] # dependent variable\n",
    "\n",
    "X_train, X_test, y_train, y_test = train_test_split(X,y,test_size=0.3,random_state=23)"
   ]
  },
  {
   "cell_type": "code",
   "execution_count": 13,
   "metadata": {},
   "outputs": [],
   "source": [
    "# Step 1: add x0 =1 to dataset\n",
    "X_train_0 = np.c_[np.ones((X_train.shape[0],1)),X_train]\n",
    "X_test_0 = np.c_[np.ones((X_test.shape[0],1)),X_test]\n",
    "\n",
    "# Step2: build model\n",
    "theta = np.matmul(np.linalg.inv( np.matmul(X_train_0.T,X_train_0) ), np.matmul(X_train_0.T,y_train)) "
   ]
  },
  {
   "cell_type": "code",
   "execution_count": 14,
   "metadata": {},
   "outputs": [],
   "source": [
    "# The parameters for linear regression model\n",
    "parameter = ['theta_'+str(i) for i in range(X_train_0.shape[1])]\n",
    "columns = ['intersect:x_0=1'] + list(X.columns.values)\n",
    "parameter_df = pd.DataFrame({'Parameter':parameter,'Columns':columns,'theta':theta})"
   ]
  },
  {
   "cell_type": "code",
   "execution_count": 15,
   "metadata": {},
   "outputs": [
    {
     "data": {
      "text/html": [
       "<div>\n",
       "<style scoped>\n",
       "    .dataframe tbody tr th:only-of-type {\n",
       "        vertical-align: middle;\n",
       "    }\n",
       "\n",
       "    .dataframe tbody tr th {\n",
       "        vertical-align: top;\n",
       "    }\n",
       "\n",
       "    .dataframe thead th {\n",
       "        text-align: right;\n",
       "    }\n",
       "</style>\n",
       "<table border=\"1\" class=\"dataframe\">\n",
       "  <thead>\n",
       "    <tr style=\"text-align: right;\">\n",
       "      <th></th>\n",
       "      <th>Parameter</th>\n",
       "      <th>Columns</th>\n",
       "      <th>theta</th>\n",
       "      <th>Sklearn_theta</th>\n",
       "    </tr>\n",
       "  </thead>\n",
       "  <tbody>\n",
       "    <tr>\n",
       "      <th>0</th>\n",
       "      <td>theta_0</td>\n",
       "      <td>intersect:x_0=1</td>\n",
       "      <td>6.933947</td>\n",
       "      <td>6.933947</td>\n",
       "    </tr>\n",
       "    <tr>\n",
       "      <th>1</th>\n",
       "      <td>theta_1</td>\n",
       "      <td>age</td>\n",
       "      <td>0.037384</td>\n",
       "      <td>0.037384</td>\n",
       "    </tr>\n",
       "    <tr>\n",
       "      <th>2</th>\n",
       "      <td>theta_2</td>\n",
       "      <td>bmi</td>\n",
       "      <td>0.012043</td>\n",
       "      <td>0.012043</td>\n",
       "    </tr>\n",
       "    <tr>\n",
       "      <th>3</th>\n",
       "      <td>theta_3</td>\n",
       "      <td>sex_male</td>\n",
       "      <td>-0.267692</td>\n",
       "      <td>-0.267692</td>\n",
       "    </tr>\n",
       "    <tr>\n",
       "      <th>4</th>\n",
       "      <td>theta_4</td>\n",
       "      <td>children_1</td>\n",
       "      <td>0.152573</td>\n",
       "      <td>0.152573</td>\n",
       "    </tr>\n",
       "    <tr>\n",
       "      <th>5</th>\n",
       "      <td>theta_5</td>\n",
       "      <td>children_2</td>\n",
       "      <td>0.280255</td>\n",
       "      <td>0.280255</td>\n",
       "    </tr>\n",
       "    <tr>\n",
       "      <th>6</th>\n",
       "      <td>theta_6</td>\n",
       "      <td>children_3</td>\n",
       "      <td>0.254635</td>\n",
       "      <td>0.254635</td>\n",
       "    </tr>\n",
       "    <tr>\n",
       "      <th>7</th>\n",
       "      <td>theta_7</td>\n",
       "      <td>children_4</td>\n",
       "      <td>0.506222</td>\n",
       "      <td>0.506222</td>\n",
       "    </tr>\n",
       "    <tr>\n",
       "      <th>8</th>\n",
       "      <td>theta_8</td>\n",
       "      <td>children_5</td>\n",
       "      <td>0.498391</td>\n",
       "      <td>0.498391</td>\n",
       "    </tr>\n",
       "    <tr>\n",
       "      <th>9</th>\n",
       "      <td>theta_9</td>\n",
       "      <td>smoker_yes</td>\n",
       "      <td>2.784171</td>\n",
       "      <td>2.784171</td>\n",
       "    </tr>\n",
       "    <tr>\n",
       "      <th>10</th>\n",
       "      <td>theta_10</td>\n",
       "      <td>region_northwest</td>\n",
       "      <td>-0.058555</td>\n",
       "      <td>-0.058555</td>\n",
       "    </tr>\n",
       "    <tr>\n",
       "      <th>11</th>\n",
       "      <td>theta_11</td>\n",
       "      <td>region_southeast</td>\n",
       "      <td>-0.137005</td>\n",
       "      <td>-0.137005</td>\n",
       "    </tr>\n",
       "    <tr>\n",
       "      <th>12</th>\n",
       "      <td>theta_12</td>\n",
       "      <td>region_southwest</td>\n",
       "      <td>-0.160239</td>\n",
       "      <td>-0.160239</td>\n",
       "    </tr>\n",
       "    <tr>\n",
       "      <th>13</th>\n",
       "      <td>theta_13</td>\n",
       "      <td>age_smoker_yes</td>\n",
       "      <td>-0.031426</td>\n",
       "      <td>-0.031426</td>\n",
       "    </tr>\n",
       "    <tr>\n",
       "      <th>14</th>\n",
       "      <td>theta_14</td>\n",
       "      <td>age_sex_male</td>\n",
       "      <td>0.005152</td>\n",
       "      <td>0.005152</td>\n",
       "    </tr>\n",
       "  </tbody>\n",
       "</table>\n",
       "</div>"
      ],
      "text/plain": [
       "   Parameter           Columns     theta  Sklearn_theta\n",
       "0    theta_0   intersect:x_0=1  6.933947       6.933947\n",
       "1    theta_1               age  0.037384       0.037384\n",
       "2    theta_2               bmi  0.012043       0.012043\n",
       "3    theta_3          sex_male -0.267692      -0.267692\n",
       "4    theta_4        children_1  0.152573       0.152573\n",
       "5    theta_5        children_2  0.280255       0.280255\n",
       "6    theta_6        children_3  0.254635       0.254635\n",
       "7    theta_7        children_4  0.506222       0.506222\n",
       "8    theta_8        children_5  0.498391       0.498391\n",
       "9    theta_9        smoker_yes  2.784171       2.784171\n",
       "10  theta_10  region_northwest -0.058555      -0.058555\n",
       "11  theta_11  region_southeast -0.137005      -0.137005\n",
       "12  theta_12  region_southwest -0.160239      -0.160239\n",
       "13  theta_13    age_smoker_yes -0.031426      -0.031426\n",
       "14  theta_14      age_sex_male  0.005152       0.005152"
      ]
     },
     "execution_count": 15,
     "metadata": {},
     "output_type": "execute_result"
    }
   ],
   "source": [
    "# Scikit Learn module\n",
    "from sklearn.linear_model import LinearRegression\n",
    "lin_reg = LinearRegression()\n",
    "lin_reg.fit(X_train,y_train) # Note: x_0 =1 is no need to add, sklearn will take care of it.\n",
    "\n",
    "#Parameter\n",
    "sk_theta = [lin_reg.intercept_]+list(lin_reg.coef_)\n",
    "parameter_df = parameter_df.join(pd.Series(sk_theta, name='Sklearn_theta'))\n",
    "parameter_df\n"
   ]
  },
  {
   "cell_type": "code",
   "execution_count": 16,
   "metadata": {},
   "outputs": [
    {
     "name": "stdout",
     "output_type": "stream",
     "text": [
      "The Mean Square Error(MSE) or J(theta) is:  0.1568318048680425\n",
      "R square obtain for normal equation method is : 0.8154227058930674\n"
     ]
    }
   ],
   "source": [
    "# Normal equation\n",
    "y_pred_norm =  np.matmul(X_test_0,theta)\n",
    "\n",
    "#Evaluvation: MSE\n",
    "J_mse = np.sum((y_pred_norm - y_test)**2)/ X_test_0.shape[0]\n",
    "\n",
    "# R_square \n",
    "sse = np.sum((y_pred_norm - y_test)**2)\n",
    "sst = np.sum((y_test - y_test.mean())**2)\n",
    "R_square = 1 - (sse/sst)\n",
    "print('The Mean Square Error(MSE) or J(theta) is: ',J_mse)\n",
    "print('R square obtain for normal equation method is :',R_square)"
   ]
  },
  {
   "cell_type": "code",
   "execution_count": 17,
   "metadata": {},
   "outputs": [
    {
     "name": "stdout",
     "output_type": "stream",
     "text": [
      "The Mean Square Error(MSE) or J(theta) is:  0.15683180486793147\n",
      "R square obtain for scikit learn library is : 0.8154227058931979\n"
     ]
    }
   ],
   "source": [
    "# sklearn regression module\n",
    "y_pred_sk = lin_reg.predict(X_test)\n",
    "\n",
    "#Evaluvation: MSE\n",
    "from sklearn.metrics import mean_squared_error\n",
    "J_mse_sk = mean_squared_error(y_pred_sk, y_test)\n",
    "\n",
    "# R_square\n",
    "R_square_sk = lin_reg.score(X_test,y_test)\n",
    "print('The Mean Square Error(MSE) or J(theta) is: ',J_mse_sk)\n",
    "print('R square obtain for scikit learn library is :',R_square_sk)"
   ]
  },
  {
   "cell_type": "code",
   "execution_count": 18,
   "metadata": {},
   "outputs": [
    {
     "name": "stdout",
     "output_type": "stream",
     "text": [
      "                            OLS Regression Results                            \n",
      "==============================================================================\n",
      "Dep. Variable:                charges   R-squared:                       0.805\n",
      "Model:                            OLS   Adj. R-squared:                  0.802\n",
      "Method:                 Least Squares   F-statistic:                     271.0\n",
      "Date:                Mon, 10 Sep 2018   Prob (F-statistic):          9.98e-315\n",
      "Time:                        15:27:40   Log-Likelihood:                -482.19\n",
      "No. Observations:                 936   AIC:                             994.4\n",
      "Df Residuals:                     921   BIC:                             1067.\n",
      "Df Model:                          14                                         \n",
      "Covariance Type:            nonrobust                                         \n",
      "====================================================================================\n",
      "                       coef    std err          t      P>|t|      [0.025      0.975]\n",
      "------------------------------------------------------------------------------------\n",
      "const                6.9339      0.089     77.741      0.000       6.759       7.109\n",
      "age                  0.0374      0.001     26.165      0.000       0.035       0.040\n",
      "bmi                  0.0120      0.002      5.340      0.000       0.008       0.016\n",
      "sex_male            -0.2677      0.080     -3.348      0.001      -0.425      -0.111\n",
      "children_1           0.1526      0.034      4.485      0.000       0.086       0.219\n",
      "children_2           0.2803      0.038      7.330      0.000       0.205       0.355\n",
      "children_3           0.2546      0.045      5.720      0.000       0.167       0.342\n",
      "children_4           0.5062      0.104      4.859      0.000       0.302       0.711\n",
      "children_5           0.4984      0.108      4.613      0.000       0.286       0.710\n",
      "smoker_yes           2.7842      0.096     28.948      0.000       2.595       2.973\n",
      "region_northwest    -0.0586      0.038     -1.541      0.124      -0.133       0.016\n",
      "region_southeast    -0.1370      0.038     -3.597      0.000      -0.212      -0.062\n",
      "region_southwest    -0.1602      0.039     -4.119      0.000      -0.237      -0.084\n",
      "age_smoker_yes      -0.0314      0.002    -13.668      0.000      -0.036      -0.027\n",
      "age_sex_male         0.0052      0.002      2.720      0.007       0.001       0.009\n",
      "==============================================================================\n",
      "Omnibus:                      531.247   Durbin-Watson:                   2.017\n",
      "Prob(Omnibus):                  0.000   Jarque-Bera (JB):             3959.551\n",
      "Skew:                           2.561   Prob(JB):                         0.00\n",
      "Kurtosis:                      11.677   Cond. No.                         476.\n",
      "==============================================================================\n",
      "\n",
      "Warnings:\n",
      "[1] Standard Errors assume that the covariance matrix of the errors is correctly specified.\n"
     ]
    }
   ],
   "source": [
    "# Backward elimination\n",
    "import statsmodels.api as sm\n",
    "X_train_0 = sm.add_constant(X_train)\n",
    "X_test_0 = sm.add_constant(X_test)\n",
    "ols = sm.OLS(endog=y_train, exog= X_train_0).fit()\n",
    "print(ols.summary())"
   ]
  },
  {
   "cell_type": "code",
   "execution_count": 20,
   "metadata": {},
   "outputs": [
    {
     "name": "stdout",
     "output_type": "stream",
     "text": [
      "                            OLS Regression Results                            \n",
      "==============================================================================\n",
      "Dep. Variable:                charges   R-squared:                       0.804\n",
      "Model:                            OLS   Adj. R-squared:                  0.801\n",
      "Method:                 Least Squares   F-statistic:                     291.2\n",
      "Date:                Mon, 10 Sep 2018   Prob (F-statistic):          1.87e-315\n",
      "Time:                        15:27:44   Log-Likelihood:                -483.39\n",
      "No. Observations:                 936   AIC:                             994.8\n",
      "Df Residuals:                     922   BIC:                             1063.\n",
      "Df Model:                          13                                         \n",
      "Covariance Type:            nonrobust                                         \n",
      "====================================================================================\n",
      "                       coef    std err          t      P>|t|      [0.025      0.975]\n",
      "------------------------------------------------------------------------------------\n",
      "const                6.9028      0.087     79.395      0.000       6.732       7.073\n",
      "age                  0.0374      0.001     26.153      0.000       0.035       0.040\n",
      "bmi                  0.0121      0.002      5.371      0.000       0.008       0.017\n",
      "sex_male            -0.2661      0.080     -3.326      0.001      -0.423      -0.109\n",
      "children_1           0.1511      0.034      4.441      0.000       0.084       0.218\n",
      "children_2           0.2780      0.038      7.271      0.000       0.203       0.353\n",
      "children_3           0.2526      0.045      5.673      0.000       0.165       0.340\n",
      "children_4           0.5089      0.104      4.881      0.000       0.304       0.713\n",
      "children_5           0.4998      0.108      4.623      0.000       0.288       0.712\n",
      "smoker_yes           2.7852      0.096     28.937      0.000       2.596       2.974\n",
      "region_southeast    -0.1086      0.033     -3.256      0.001      -0.174      -0.043\n",
      "region_southwest    -0.1315      0.034     -3.849      0.000      -0.198      -0.064\n",
      "age_smoker_yes      -0.0314      0.002    -13.652      0.000      -0.036      -0.027\n",
      "age_sex_male         0.0051      0.002      2.702      0.007       0.001       0.009\n",
      "==============================================================================\n",
      "Omnibus:                      529.594   Durbin-Watson:                   2.022\n",
      "Prob(Omnibus):                  0.000   Jarque-Bera (JB):             3912.168\n",
      "Skew:                           2.555   Prob(JB):                         0.00\n",
      "Kurtosis:                      11.614   Cond. No.                         475.\n",
      "==============================================================================\n",
      "\n",
      "Warnings:\n",
      "[1] Standard Errors assume that the covariance matrix of the errors is correctly specified.\n"
     ]
    }
   ],
   "source": [
    "# Backward elimination\n",
    "# Step 2\n",
    "import statsmodels.api as sm\n",
    "X_train_1 = X_train.drop('region_northwest',axis=1)\n",
    "X_test_1 = X_test.drop('region_northwest',axis=1)\n",
    "X_train_2 = sm.add_constant(X_train_1)\n",
    "X_test_2 = sm.add_constant(X_test_1)\n",
    "ols = sm.OLS(endog=y_train, exog= X_train_2).fit()\n",
    "print(ols.summary())"
   ]
  },
  {
   "cell_type": "code",
   "execution_count": 21,
   "metadata": {},
   "outputs": [],
   "source": [
    "# Prediction for ols model\n",
    "y_pred_ols = ols.predict(X_test_2)"
   ]
  },
  {
   "cell_type": "code",
   "execution_count": 25,
   "metadata": {},
   "outputs": [],
   "source": [
    "import matplotlib.pyplot as plt"
   ]
  },
  {
   "cell_type": "code",
   "execution_count": 22,
   "metadata": {},
   "outputs": [],
   "source": [
    "import seaborn as sns; sns.set()"
   ]
  },
  {
   "cell_type": "code",
   "execution_count": 27,
   "metadata": {},
   "outputs": [
    {
     "data": {
      "image/png": "[encoded data removed]",
      "text/plain": [
       "<Figure size 1008x360 with 2 Axes>"
      ]
     },
     "metadata": {},
     "output_type": "display_data"
    }
   ],
   "source": [
    "# Check for Linearity\n",
    "f = plt.figure(figsize=(14,5))\n",
    "ax = f.add_subplot(121)\n",
    "sns.scatterplot(y_test,y_pred_ols,ax=ax,color=['r','g'])\n",
    "plt.title('Check for Linearity')\n",
    "plt.xlabel('Actual value')\n",
    "plt.ylabel('Predicted value')\n",
    "\n",
    "# Check for Residual normality & mean\n",
    "ax = f.add_subplot(122)\n",
    "sns.distplot((y_test - y_pred_ols),ax=ax,color='b')\n",
    "plt.axvline((y_test - y_pred_ols).mean(),color='k',linestyle='--')\n",
    "plt.title('Check for Residual normality & mean')\n",
    "plt.xlabel('Residual eror')\n",
    "plt.ylabel('$p(x)$');"
   ]
  },
  {
   "cell_type": "code",
   "execution_count": 44,
   "metadata": {
    "collapsed": true
   },
   "outputs": [
    {
     "data": {
      "text/plain": [
       "918      9.475924\n",
       "755      8.523428\n",
       "207      9.951520\n",
       "520     10.152555\n",
       "695      8.071295\n",
       "567      8.889684\n",
       "956     10.645413\n",
       "353      9.425845\n",
       "25       9.546894\n",
       "1240    10.763628\n",
       "363      7.862412\n",
       "890     10.286400\n",
       "1276     7.916424\n",
       "287      9.564947\n",
       "931      8.738463\n",
       "965      8.465130\n",
       "408      8.802752\n",
       "1038     7.719057\n",
       "1090    10.637683\n",
       "84      10.592539\n",
       "328     10.777456\n",
       "1180     8.942562\n",
       "1173     8.773051\n",
       "260      9.378999\n",
       "1022    10.650439\n",
       "670      8.484170\n",
       "320      8.495919\n",
       "263     10.497350\n",
       "469      7.696711\n",
       "748      9.054494\n",
       "          ...    \n",
       "1071     9.544986\n",
       "147      9.198026\n",
       "238      9.761502\n",
       "575      9.411066\n",
       "586      8.258736\n",
       "739     10.705163\n",
       "953     10.571280\n",
       "528      9.029167\n",
       "229      9.129700\n",
       "19      10.514271\n",
       "1227     8.876546\n",
       "806     10.256843\n",
       "130      9.458406\n",
       "28       7.928475\n",
       "846      9.197529\n",
       "841      9.419299\n",
       "1051     9.574605\n",
       "985      8.939139\n",
       "1258    10.311070\n",
       "976      8.962412\n",
       "1190     8.580619\n",
       "277      7.673441\n",
       "1013     9.078550\n",
       "783     10.107255\n",
       "52      10.067657\n",
       "1302     8.073648\n",
       "1191     9.527009\n",
       "1085     9.853418\n",
       "663      7.035620\n",
       "977      7.973468\n",
       "Name: charges, Length: 402, dtype: float64"
      ]
     },
     "execution_count": 44,
     "metadata": {},
     "output_type": "execute_result"
    }
   ],
   "source": [
    "# tips = sns.load_dataset(\"tips\")\n",
    "y_test"
   ]
  },
  {
   "cell_type": "code",
   "execution_count": 42,
   "metadata": {},
   "outputs": [],
   "source": [
    "tips_1 = pd.concat([y_test, y_pred_ols], axis=1).reset_index()"
   ]
  },
  {
   "cell_type": "code",
   "execution_count": 28,
   "metadata": {},
   "outputs": [
    {
     "data": {
      "image/png": "[encoded data removed]",
      "text/plain": [
       "<Figure size 1008x432 with 2 Axes>"
      ]
     },
     "metadata": {},
     "output_type": "display_data"
    }
   ],
   "source": [
    "# Check for Multivariate Normality\n",
    "# Quantile-Quantile plot \n",
    "f,ax = plt.subplots(1,2,figsize=(14,6))\n",
    "import scipy as sp\n",
    "_,(_,_,r)= sp.stats.probplot((y_test - y_pred_ols),fit=True,plot=ax[0])\n",
    "ax[0].set_title('Check for Multivariate Normality: \\nQ-Q Plot')\n",
    "\n",
    "#Check for Homoscedasticity\n",
    "sns.scatterplot(y = (y_test - y_pred_ols), x= y_pred_ols, ax = ax[1],color=['r','g']) \n",
    "ax[1].set_title('Check for Homoscedasticity')\n",
    "plt.xlabel('Predicted value')\n",
    "plt.ylabel('Residual error');"
   ]
  },
  {
   "cell_type": "code",
   "execution_count": 29,
   "metadata": {},
   "outputs": [
    {
     "data": {
      "text/plain": [
       "5.105774693629873"
      ]
     },
     "execution_count": 29,
     "metadata": {},
     "output_type": "execute_result"
    }
   ],
   "source": [
    "# Check for Multicollinearity\n",
    "#Variance Inflation Factor\n",
    "VIF = 1/(1- ols.rsquared)\n",
    "VIF"
   ]
  }
 ],
 "metadata": {
  "kernelspec": {
   "display_name": "Python 3",
   "language": "python",
   "name": "python3"
  },
  "language_info": {
   "codemirror_mode": {
    "name": "ipython",
    "version": 3
   },
   "file_extension": ".py",
   "mimetype": "text/x-python",
   "name": "python",
   "nbconvert_exporter": "python",
   "pygments_lexer": "ipython3",
   "version": "3.6.4"
  }
 },
 "nbformat": 4,
 "nbformat_minor": 2
}
